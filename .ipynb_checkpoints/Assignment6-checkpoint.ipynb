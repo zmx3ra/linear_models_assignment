{
 "cells": [
  {
   "cell_type": "code",
   "execution_count": 32,
   "id": "2c8f2f6b-fd03-43b9-b6a8-a1c1843ad2e4",
   "metadata": {},
   "outputs": [],
   "source": [
    "import numpy as np\n",
    "import matplotlib.pyplot as plt\n",
    "import pandas as pd\n",
    "import seaborn as sns"
   ]
  },
  {
   "cell_type": "code",
   "execution_count": 33,
   "id": "71dc84f0-254c-469f-b0b4-70193cc12660",
   "metadata": {},
   "outputs": [
    {
     "name": "stdout",
     "output_type": "stream",
     "text": [
      "['.git', '.ipynb_checkpoints', 'assignment.ipynb', 'Assignment6.ipynb', 'data', 'README.md']\n"
     ]
    }
   ],
   "source": [
    "import os\n",
    "print(os.listdir(r\"C:\\Users\\rache\\linear_models_assignment\"))\n",
    "\n"
   ]
  },
  {
   "cell_type": "code",
   "execution_count": 34,
   "id": "8ea32f93-9968-45c6-8547-1ff82b20739e",
   "metadata": {},
   "outputs": [],
   "source": [
    "df = pd.read_csv(r\"C:\\Users\\rache\\linear_models_assignment\\data\\heart_hw.csv\")"
   ]
  },
  {
   "cell_type": "code",
   "execution_count": 35,
   "id": "d5efc956-65ba-4d73-9e6c-36dfa8dcba01",
   "metadata": {},
   "outputs": [
    {
     "data": {
      "text/html": [
       "<div>\n",
       "<style scoped>\n",
       "    .dataframe tbody tr th:only-of-type {\n",
       "        vertical-align: middle;\n",
       "    }\n",
       "\n",
       "    .dataframe tbody tr th {\n",
       "        vertical-align: top;\n",
       "    }\n",
       "\n",
       "    .dataframe thead th {\n",
       "        text-align: right;\n",
       "    }\n",
       "</style>\n",
       "<table border=\"1\" class=\"dataframe\">\n",
       "  <thead>\n",
       "    <tr style=\"text-align: right;\">\n",
       "      <th></th>\n",
       "      <th>Unnamed: 0</th>\n",
       "      <th>age</th>\n",
       "      <th>transplant</th>\n",
       "      <th>y</th>\n",
       "    </tr>\n",
       "  </thead>\n",
       "  <tbody>\n",
       "    <tr>\n",
       "      <th>0</th>\n",
       "      <td>1</td>\n",
       "      <td>53</td>\n",
       "      <td>control</td>\n",
       "      <td>0</td>\n",
       "    </tr>\n",
       "    <tr>\n",
       "      <th>1</th>\n",
       "      <td>2</td>\n",
       "      <td>43</td>\n",
       "      <td>control</td>\n",
       "      <td>0</td>\n",
       "    </tr>\n",
       "    <tr>\n",
       "      <th>2</th>\n",
       "      <td>3</td>\n",
       "      <td>52</td>\n",
       "      <td>control</td>\n",
       "      <td>0</td>\n",
       "    </tr>\n",
       "    <tr>\n",
       "      <th>3</th>\n",
       "      <td>4</td>\n",
       "      <td>52</td>\n",
       "      <td>control</td>\n",
       "      <td>0</td>\n",
       "    </tr>\n",
       "    <tr>\n",
       "      <th>4</th>\n",
       "      <td>5</td>\n",
       "      <td>54</td>\n",
       "      <td>control</td>\n",
       "      <td>0</td>\n",
       "    </tr>\n",
       "    <tr>\n",
       "      <th>...</th>\n",
       "      <td>...</td>\n",
       "      <td>...</td>\n",
       "      <td>...</td>\n",
       "      <td>...</td>\n",
       "    </tr>\n",
       "    <tr>\n",
       "      <th>95</th>\n",
       "      <td>96</td>\n",
       "      <td>36</td>\n",
       "      <td>treatment</td>\n",
       "      <td>1</td>\n",
       "    </tr>\n",
       "    <tr>\n",
       "      <th>96</th>\n",
       "      <td>97</td>\n",
       "      <td>45</td>\n",
       "      <td>treatment</td>\n",
       "      <td>1</td>\n",
       "    </tr>\n",
       "    <tr>\n",
       "      <th>97</th>\n",
       "      <td>98</td>\n",
       "      <td>53</td>\n",
       "      <td>treatment</td>\n",
       "      <td>0</td>\n",
       "    </tr>\n",
       "    <tr>\n",
       "      <th>98</th>\n",
       "      <td>99</td>\n",
       "      <td>30</td>\n",
       "      <td>control</td>\n",
       "      <td>1</td>\n",
       "    </tr>\n",
       "    <tr>\n",
       "      <th>99</th>\n",
       "      <td>100</td>\n",
       "      <td>48</td>\n",
       "      <td>treatment</td>\n",
       "      <td>1</td>\n",
       "    </tr>\n",
       "  </tbody>\n",
       "</table>\n",
       "<p>100 rows × 4 columns</p>\n",
       "</div>"
      ],
      "text/plain": [
       "    Unnamed: 0  age transplant  y\n",
       "0            1   53    control  0\n",
       "1            2   43    control  0\n",
       "2            3   52    control  0\n",
       "3            4   52    control  0\n",
       "4            5   54    control  0\n",
       "..         ...  ...        ... ..\n",
       "95          96   36  treatment  1\n",
       "96          97   45  treatment  1\n",
       "97          98   53  treatment  0\n",
       "98          99   30    control  1\n",
       "99         100   48  treatment  1\n",
       "\n",
       "[100 rows x 4 columns]"
      ]
     },
     "execution_count": 35,
     "metadata": {},
     "output_type": "execute_result"
    }
   ],
   "source": [
    "df.head(100)"
   ]
  },
  {
   "cell_type": "code",
   "execution_count": 37,
   "id": "e5b1ae05-ac1f-4b03-95c7-c12bd5fad78b",
   "metadata": {},
   "outputs": [
    {
     "name": "stdout",
     "output_type": "stream",
     "text": [
      "0.8235294117647058\n"
     ]
    }
   ],
   "source": [
    "#a\n",
    "n=103\n",
    "\n",
    "prop = df[df['transplant'] == 'control']\n",
    "a=(df['y'] == 1).sum() / len(prop)\n",
    "print(a)\n"
   ]
  },
  {
   "cell_type": "code",
   "execution_count": 39,
   "id": "e2f39dbb-e2ed-43ca-a6fe-740e53764d8e",
   "metadata": {},
   "outputs": [
    {
     "name": "stdout",
     "output_type": "stream",
     "text": [
      "0.41773231031543046\n"
     ]
    }
   ],
   "source": [
    "#b\n",
    "\n",
    "treat=df[df['transplant']=='treatment']\n",
    "b=(df['y'] == 1).sum() / len(treat)\n",
    "print(a-b)\n",
    "\n",
    "#0.19417"
   ]
  },
  {
   "cell_type": "code",
   "execution_count": 42,
   "id": "35712884-0f97-422d-b2c3-1aa2b539597c",
   "metadata": {},
   "outputs": [
    {
     "name": "stderr",
     "output_type": "stream",
     "text": [
      "C:\\Users\\rache\\AppData\\Local\\Temp\\ipykernel_39744\\3359593217.py:3: FutureWarning: Downcasting behavior in `replace` is deprecated and will be removed in a future version. To retain the old behavior, explicitly call `result.infer_objects(copy=False)`. To opt-in to the future behavior, set `pd.set_option('future.no_silent_downcasting', True)`\n",
      "  df['transplant'] = df['transplant'].replace({'control': 0, 'treatment': 1})\n"
     ]
    }
   ],
   "source": [
    "#2\n",
    "\n",
    "df['transplant'] = df['transplant'].replace({'control': 0, 'treatment': 1})\n",
    "\n",
    "x=df['transplant']\n",
    "y=df['y']\n",
    "\n",
    "def slr(x,y): \n",
    "    \"\"\" Single linear regression function. \"\"\"\n",
    "    x_bar = np.mean(x)\n",
    "    y_bar = np.mean(y)\n",
    "    b1 = np.inner(x-x_bar,y-y_bar)/np.inner(x-x_bar,x-x_bar)\n",
    "    b0 = y_bar - b1*x_bar\n",
    "    y_hat = b0 + b1*x\n",
    "    residuals = y - y_hat\n",
    "    return({'b0':b0,'b1':b1})"
   ]
  },
  {
   "cell_type": "code",
   "execution_count": 43,
   "id": "12cd99df-3e5e-40ff-96b3-ced278ba76e1",
   "metadata": {},
   "outputs": [
    {
     "name": "stdout",
     "output_type": "stream",
     "text": [
      "{'b0': np.float64(0.11764705882352941), 'b1': np.float64(0.23017902813299232)}\n"
     ]
    }
   ],
   "source": [
    "print(slr(x,y))\n",
    "\n",
    "# The comparison between part 1 and part 2: part 1 shows the treatment differences while part two is more the statistical calculations for the equation of the regression line"
   ]
  },
  {
   "cell_type": "code",
   "execution_count": 44,
   "id": "e380788b-da72-4d53-b4dc-f054d9c25004",
   "metadata": {},
   "outputs": [
    {
     "name": "stdout",
     "output_type": "stream",
     "text": [
      "MLR coefficients:  [ 0.70195697 -0.01360722  0.26470169]\n"
     ]
    }
   ],
   "source": [
    "\n",
    "def mlr(X,y): # Multiple linear regression, matrix algebra approach\n",
    "    XpX = X.T@X # Compute X'X\n",
    "    Xpy = X.T@y # Compute X'y\n",
    "    b = np.linalg.solve(XpX, Xpy) # Solve normal equations\n",
    "    y_hat = X@b # Compute predictions\n",
    "    residuals = y-y_hat # Compute residuals\n",
    "    SSE =  np.inner(residuals,residuals) # Compute SSE\n",
    "    rsq = 1 - SSE/np.inner( y-np.mean(y),y-np.mean(y)) # Compute Rsq\n",
    "    return({'b':b,'y_hat':y_hat,'residuals':residuals,'rsq':rsq,'SSE':SSE})\n",
    "\n",
    "X = df[['(Intercept)', 'age', 'transplant']].astype(float).values\n",
    "y = df['y'].astype(float).values\n",
    "\n",
    "\n",
    "df['(Intercept)'] = 1\n",
    "X = df.loc[:,['(Intercept)','age','transplant'] ]\n",
    "y = df['y']\n",
    "reg = mlr(X,y)\n",
    "print('MLR coefficients: ', reg['b']) # Same values!\n",
    "\n",
    "# The intercept here is much larger than the simple linear regression; adding another variable influenced it"
   ]
  },
  {
   "cell_type": "code",
   "execution_count": 49,
   "id": "69163412-2a55-426e-8359-4dcfb0fab90e",
   "metadata": {},
   "outputs": [
    {
     "data": {
      "text/html": [
       "<div>\n",
       "<style scoped>\n",
       "    .dataframe tbody tr th:only-of-type {\n",
       "        vertical-align: middle;\n",
       "    }\n",
       "\n",
       "    .dataframe tbody tr th {\n",
       "        vertical-align: top;\n",
       "    }\n",
       "\n",
       "    .dataframe thead th {\n",
       "        text-align: right;\n",
       "    }\n",
       "</style>\n",
       "<table border=\"1\" class=\"dataframe\">\n",
       "  <thead>\n",
       "    <tr style=\"text-align: right;\">\n",
       "      <th></th>\n",
       "      <th>(Intercept)</th>\n",
       "      <th>age</th>\n",
       "      <th>transplant</th>\n",
       "      <th>age*2</th>\n",
       "    </tr>\n",
       "  </thead>\n",
       "  <tbody>\n",
       "    <tr>\n",
       "      <th>0</th>\n",
       "      <td>1</td>\n",
       "      <td>53</td>\n",
       "      <td>0</td>\n",
       "      <td>2809</td>\n",
       "    </tr>\n",
       "    <tr>\n",
       "      <th>1</th>\n",
       "      <td>1</td>\n",
       "      <td>43</td>\n",
       "      <td>0</td>\n",
       "      <td>1849</td>\n",
       "    </tr>\n",
       "    <tr>\n",
       "      <th>2</th>\n",
       "      <td>1</td>\n",
       "      <td>52</td>\n",
       "      <td>0</td>\n",
       "      <td>2704</td>\n",
       "    </tr>\n",
       "    <tr>\n",
       "      <th>3</th>\n",
       "      <td>1</td>\n",
       "      <td>52</td>\n",
       "      <td>0</td>\n",
       "      <td>2704</td>\n",
       "    </tr>\n",
       "    <tr>\n",
       "      <th>4</th>\n",
       "      <td>1</td>\n",
       "      <td>54</td>\n",
       "      <td>0</td>\n",
       "      <td>2916</td>\n",
       "    </tr>\n",
       "  </tbody>\n",
       "</table>\n",
       "</div>"
      ],
      "text/plain": [
       "   (Intercept)  age  transplant  age*2\n",
       "0            1   53           0   2809\n",
       "1            1   43           0   1849\n",
       "2            1   52           0   2704\n",
       "3            1   52           0   2704\n",
       "4            1   54           0   2916"
      ]
     },
     "execution_count": 49,
     "metadata": {},
     "output_type": "execute_result"
    }
   ],
   "source": [
    "y = df['y']\n",
    "df['age*2'] = df['age']**2\n",
    "df['transplant*2'] = df['transplant']**2\n",
    "df['(Intercept)'] = 1\n",
    "vars = ['(Intercept)','age','transplant','age*2']\n",
    "X = df.loc[:,vars]\n",
    "X.head()"
   ]
  },
  {
   "cell_type": "code",
   "execution_count": 50,
   "id": "a1c0bf83-241b-472d-98cb-09a5e413066e",
   "metadata": {},
   "outputs": [
    {
     "name": "stdout",
     "output_type": "stream",
     "text": [
      "MLR coefficients:  [-0.03493276  0.0279097   0.25238423 -0.00053078]\n"
     ]
    }
   ],
   "source": [
    "def mlr(X,y): # Multiple linear regression, matrix algebra approach\n",
    "    XpX = X.T@X # Compute X'X\n",
    "    Xpy = X.T@y # Compute X'y\n",
    "    b = np.linalg.solve(XpX, Xpy) # Solve normal equations\n",
    "    y_hat = X@b # Compute predictions\n",
    "    residuals = y-y_hat # Compute residuals\n",
    "    SSE =  np.inner(residuals,residuals) # Compute SSE\n",
    "    rsq = 1 - SSE/np.inner( y-np.mean(y),y-np.mean(y)) # Compute Rsq\n",
    "    return({'b':b,'y_hat':y_hat,'residuals':residuals,'rsq':rsq,'SSE':SSE})\n",
    "\n",
    "\n",
    "df['(Intercept)'] = 1\n",
    "reg = mlr(X,y)\n",
    "print('MLR coefficients: ', reg['b']) # Same values!"
   ]
  },
  {
   "cell_type": "code",
   "execution_count": null,
   "id": "6b137bd6-681f-460d-b6d7-4921f8a8e1e4",
   "metadata": {},
   "outputs": [],
   "source": []
  }
 ],
 "metadata": {
  "kernelspec": {
   "display_name": "Python [conda env:base] *",
   "language": "python",
   "name": "conda-base-py"
  },
  "language_info": {
   "codemirror_mode": {
    "name": "ipython",
    "version": 3
   },
   "file_extension": ".py",
   "mimetype": "text/x-python",
   "name": "python",
   "nbconvert_exporter": "python",
   "pygments_lexer": "ipython3",
   "version": "3.13.5"
  }
 },
 "nbformat": 4,
 "nbformat_minor": 5
}
